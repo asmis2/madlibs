{
 "cells": [
  {
   "cell_type": "markdown",
   "metadata": {},
   "source": [
    "string conacatenation {aka how to put strings together}\n",
    "\n",
    "suppose we want to create a string that says \"subscribe to ______\"\n",
    "\n",
    "youtuber = \"Astha Mishra\" {Some string variable} \n",
    "\n",
    "\n",
    "a few ways to do this:-\n",
    "\n",
    "print(\"subscribe to \" + youtuber)\n",
    "print(\"subscribe to {}\".format(youtuber))\n",
    "print(\"subscribe to {youtuber}\")\n"
   ]
  },
  {
   "cell_type": "code",
   "execution_count": 3,
   "metadata": {},
   "outputs": [
    {
     "name": "stdout",
     "output_type": "stream",
     "text": [
      "Adjective: awesomw\n",
      "Verb: dsd\n",
      "Verb: sdds\n",
      "Famous person: dsd\n",
      "Computer programming is so awesomw! It makes me so excited all the time because I love to dsd. Stay hydrated and sdds like you are dsd!\n"
     ]
    }
   ],
   "source": [
    "adj = input(\"Adjective: \")\n",
    "verb1 = input(\"Verb: \")\n",
    "verb2 = input(\"Verb: \")\n",
    "famous_person = input(\"Famous person: \")\n",
    "\n",
    "madlib = f\"Computer programming is so {adj}! It makes me so excited all the time because \\\n",
    "I love to {verb1}. Stay hydrated and {verb2} like you are {famous_person}!\"\n",
    "\n",
    "print(madlib)"
   ]
  },
  {
   "cell_type": "code",
   "execution_count": 1,
   "metadata": {},
   "outputs": [
    {
     "name": "stdout",
     "output_type": "stream",
     "text": [
      "Name :seema\n",
      "Famous Person:shan\n",
      "Hey!! Everyone ... I am seema! Today I am very happy... as i met the shan.. one of dream came true..i always wanted to meet this person ...\n"
     ]
    }
   ],
   "source": [
    "name = input(\"Name :\" )\n",
    "famous_person = input(\"Famous Person:\")\n",
    "\n",
    "\n",
    "madlib = f\"Hey!! Everyone ... I am {name}! Today I am very happy... as i met the {famous_person}.. one of dream came true..\\\n",
    "i always wanted to meet this person ...\"\n",
    "\n",
    "print(madlib)"
   ]
  },
  {
   "cell_type": "code",
   "execution_count": null,
   "metadata": {},
   "outputs": [],
   "source": []
  }
 ],
 "metadata": {
  "kernelspec": {
   "display_name": "Python 3",
   "language": "python",
   "name": "python3"
  },
  "language_info": {
   "codemirror_mode": {
    "name": "ipython",
    "version": 3
   },
   "file_extension": ".py",
   "mimetype": "text/x-python",
   "name": "python",
   "nbconvert_exporter": "python",
   "pygments_lexer": "ipython3",
   "version": "3.7.9"
  }
 },
 "nbformat": 4,
 "nbformat_minor": 4
}
